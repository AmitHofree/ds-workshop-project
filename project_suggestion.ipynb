{
  "nbformat": 4,
  "nbformat_minor": 0,
  "metadata": {
    "colab": {
      "name": "project_suggestion.ipynb",
      "provenance": [],
      "toc_visible": true
    },
    "kernelspec": {
      "name": "python3",
      "display_name": "Python 3"
    },
    "language_info": {
      "name": "python"
    }
  },
  "cells": [
    {
      "cell_type": "markdown",
      "metadata": {
        "id": "EkRSP4-i1aK8"
      },
      "source": [
        "## Intro\n",
        "\n",
        "I'm Amit Hofree, I.D 208117341, and this is my project suggestion.\n",
        "\n",
        "In this technological age we live in, source code is becoming more and more ubiquitous.\n",
        "\n",
        "More and more software companies and projects are started every day, and source code is becoming more advanced, feature-filled and multi-purpose than ever before.\n",
        "\n",
        "Source code is often classified by its \"language\", the collection of syntax and rules that the script must obey in order to be understood by the compiler and translated into a well defined executable.\n",
        "\n",
        "Most of the time, a source code file's language can be inferred by its file extension. For example, C source code can be recognized by the `.c` file extension, and Python source code can be recognized by the `.py` file extension.\n",
        "\n",
        "However, sometimes this file extension isn't available or isn't enough.\n",
        "\n",
        "The aim of this project is to create a system for classifying source code snippets and files using only the source code content, without file extension or context, using machine learning tools.\n",
        "\n",
        "A possible use for this system could be an advanced DLP (Data Loss Prevention) system, that monitors source code traffic in a network. Alternatively, it could be used in an IM client (Slack / Discord) to add correct syntax highlighting to a shared code snippet. More possibilities can be considered, as long as the system can detect the code in an efficient and satisfactory manner.\n",
        "\n",
        "For demo purposes, we will try to tell apart the 3 most common programming langauges - \n",
        "\n",
        "1. Javscript\n",
        "\n",
        "2. Python\n",
        "\n",
        "3. Java\n"
      ]
    },
    {
      "cell_type": "markdown",
      "metadata": {
        "id": "9u8bl6xU4J_e"
      },
      "source": [
        "## Collecting data\n",
        "As a source of data for classification, I opted to use one of the biggest (if not the biggest) sources of open-source source code - GitHub.\n",
        "\n",
        "GitHub is a platform where anyone can store source code, display, share it, and manage its ongoing development.\n",
        "\n",
        "As the code hosted on GitHub is publicly available, and can be acquired using a comfortable API, I aim to use it as the main source of data for training the system.\n",
        "\n",
        "For this part, I'm planning to use PyGitHub, along with other native libraries to parse and work with the data."
      ]
    },
    {
      "cell_type": "code",
      "metadata": {
        "id": "KcgQBovgs1nN",
        "colab": {
          "base_uri": "https://localhost:8080/"
        },
        "outputId": "c0b06b45-8066-49f9-87a5-76abda86316e"
      },
      "source": [
        "%pip install PyGithub\n",
        "%pip install scikit-plot"
      ],
      "execution_count": 2,
      "outputs": [
        {
          "output_type": "stream",
          "text": [
            "Collecting PyGithub\n",
            "\u001b[?25l  Downloading https://files.pythonhosted.org/packages/c1/1f/9dc4ba315eeea222473cf4c15d3e665f32d52f859d9d6e73219d0a408969/PyGithub-1.55-py3-none-any.whl (291kB)\n",
            "\r\u001b[K     |█▏                              | 10kB 15.6MB/s eta 0:00:01\r\u001b[K     |██▎                             | 20kB 14.7MB/s eta 0:00:01\r\u001b[K     |███▍                            | 30kB 10.0MB/s eta 0:00:01\r\u001b[K     |████▌                           | 40kB 8.5MB/s eta 0:00:01\r\u001b[K     |█████▋                          | 51kB 5.3MB/s eta 0:00:01\r\u001b[K     |██████▊                         | 61kB 5.9MB/s eta 0:00:01\r\u001b[K     |███████▉                        | 71kB 5.7MB/s eta 0:00:01\r\u001b[K     |█████████                       | 81kB 6.1MB/s eta 0:00:01\r\u001b[K     |██████████                      | 92kB 6.4MB/s eta 0:00:01\r\u001b[K     |███████████▎                    | 102kB 5.1MB/s eta 0:00:01\r\u001b[K     |████████████▍                   | 112kB 5.1MB/s eta 0:00:01\r\u001b[K     |█████████████▌                  | 122kB 5.1MB/s eta 0:00:01\r\u001b[K     |██████████████▋                 | 133kB 5.1MB/s eta 0:00:01\r\u001b[K     |███████████████▊                | 143kB 5.1MB/s eta 0:00:01\r\u001b[K     |████████████████▉               | 153kB 5.1MB/s eta 0:00:01\r\u001b[K     |██████████████████              | 163kB 5.1MB/s eta 0:00:01\r\u001b[K     |███████████████████             | 174kB 5.1MB/s eta 0:00:01\r\u001b[K     |████████████████████▏           | 184kB 5.1MB/s eta 0:00:01\r\u001b[K     |█████████████████████▍          | 194kB 5.1MB/s eta 0:00:01\r\u001b[K     |██████████████████████▌         | 204kB 5.1MB/s eta 0:00:01\r\u001b[K     |███████████████████████▋        | 215kB 5.1MB/s eta 0:00:01\r\u001b[K     |████████████████████████▊       | 225kB 5.1MB/s eta 0:00:01\r\u001b[K     |█████████████████████████▉      | 235kB 5.1MB/s eta 0:00:01\r\u001b[K     |███████████████████████████     | 245kB 5.1MB/s eta 0:00:01\r\u001b[K     |████████████████████████████    | 256kB 5.1MB/s eta 0:00:01\r\u001b[K     |█████████████████████████████▏  | 266kB 5.1MB/s eta 0:00:01\r\u001b[K     |██████████████████████████████▎ | 276kB 5.1MB/s eta 0:00:01\r\u001b[K     |███████████████████████████████▌| 286kB 5.1MB/s eta 0:00:01\r\u001b[K     |████████████████████████████████| 296kB 5.1MB/s \n",
            "\u001b[?25hCollecting pyjwt>=2.0\n",
            "  Downloading https://files.pythonhosted.org/packages/3f/32/d5d3cab27fee7f6b22d7cd7507547ae45d52e26030fa77d1f83d0526c6e5/PyJWT-2.1.0-py3-none-any.whl\n",
            "Requirement already satisfied: requests>=2.14.0 in /usr/local/lib/python3.7/dist-packages (from PyGithub) (2.23.0)\n",
            "Collecting pynacl>=1.4.0\n",
            "\u001b[?25l  Downloading https://files.pythonhosted.org/packages/9d/57/2f5e6226a674b2bcb6db531e8b383079b678df5b10cdaa610d6cf20d77ba/PyNaCl-1.4.0-cp35-abi3-manylinux1_x86_64.whl (961kB)\n",
            "\u001b[K     |████████████████████████████████| 962kB 8.7MB/s \n",
            "\u001b[?25hCollecting deprecated\n",
            "  Downloading https://files.pythonhosted.org/packages/fb/73/994edfcba74443146c84b91921fcc269374354118d4f452fb0c54c1cbb12/Deprecated-1.2.12-py2.py3-none-any.whl\n",
            "Requirement already satisfied: chardet<4,>=3.0.2 in /usr/local/lib/python3.7/dist-packages (from requests>=2.14.0->PyGithub) (3.0.4)\n",
            "Requirement already satisfied: certifi>=2017.4.17 in /usr/local/lib/python3.7/dist-packages (from requests>=2.14.0->PyGithub) (2020.12.5)\n",
            "Requirement already satisfied: urllib3!=1.25.0,!=1.25.1,<1.26,>=1.21.1 in /usr/local/lib/python3.7/dist-packages (from requests>=2.14.0->PyGithub) (1.24.3)\n",
            "Requirement already satisfied: idna<3,>=2.5 in /usr/local/lib/python3.7/dist-packages (from requests>=2.14.0->PyGithub) (2.10)\n",
            "Requirement already satisfied: cffi>=1.4.1 in /usr/local/lib/python3.7/dist-packages (from pynacl>=1.4.0->PyGithub) (1.14.5)\n",
            "Requirement already satisfied: six in /usr/local/lib/python3.7/dist-packages (from pynacl>=1.4.0->PyGithub) (1.15.0)\n",
            "Requirement already satisfied: wrapt<2,>=1.10 in /usr/local/lib/python3.7/dist-packages (from deprecated->PyGithub) (1.12.1)\n",
            "Requirement already satisfied: pycparser in /usr/local/lib/python3.7/dist-packages (from cffi>=1.4.1->pynacl>=1.4.0->PyGithub) (2.20)\n",
            "Installing collected packages: pyjwt, pynacl, deprecated, PyGithub\n",
            "Successfully installed PyGithub-1.55 deprecated-1.2.12 pyjwt-2.1.0 pynacl-1.4.0\n",
            "Collecting scikit-plot\n",
            "  Downloading https://files.pythonhosted.org/packages/7c/47/32520e259340c140a4ad27c1b97050dd3254fdc517b1d59974d47037510e/scikit_plot-0.3.7-py3-none-any.whl\n",
            "Requirement already satisfied: joblib>=0.10 in /usr/local/lib/python3.7/dist-packages (from scikit-plot) (1.0.1)\n",
            "Requirement already satisfied: scikit-learn>=0.18 in /usr/local/lib/python3.7/dist-packages (from scikit-plot) (0.22.2.post1)\n",
            "Requirement already satisfied: scipy>=0.9 in /usr/local/lib/python3.7/dist-packages (from scikit-plot) (1.4.1)\n",
            "Requirement already satisfied: matplotlib>=1.4.0 in /usr/local/lib/python3.7/dist-packages (from scikit-plot) (3.2.2)\n",
            "Requirement already satisfied: numpy>=1.11.0 in /usr/local/lib/python3.7/dist-packages (from scikit-learn>=0.18->scikit-plot) (1.19.5)\n",
            "Requirement already satisfied: kiwisolver>=1.0.1 in /usr/local/lib/python3.7/dist-packages (from matplotlib>=1.4.0->scikit-plot) (1.3.1)\n",
            "Requirement already satisfied: pyparsing!=2.0.4,!=2.1.2,!=2.1.6,>=2.0.1 in /usr/local/lib/python3.7/dist-packages (from matplotlib>=1.4.0->scikit-plot) (2.4.7)\n",
            "Requirement already satisfied: cycler>=0.10 in /usr/local/lib/python3.7/dist-packages (from matplotlib>=1.4.0->scikit-plot) (0.10.0)\n",
            "Requirement already satisfied: python-dateutil>=2.1 in /usr/local/lib/python3.7/dist-packages (from matplotlib>=1.4.0->scikit-plot) (2.8.1)\n",
            "Requirement already satisfied: six in /usr/local/lib/python3.7/dist-packages (from cycler>=0.10->matplotlib>=1.4.0->scikit-plot) (1.15.0)\n",
            "Installing collected packages: scikit-plot\n",
            "Successfully installed scikit-plot-0.3.7\n"
          ],
          "name": "stdout"
        }
      ]
    },
    {
      "cell_type": "code",
      "metadata": {
        "id": "4TeIBrnis9l1"
      },
      "source": [
        "from github import Github\n",
        "from getpass import getpass\n",
        "import requests\n",
        "import zipfile\n",
        "import io\n",
        "import glob\n",
        "import random"
      ],
      "execution_count": 3,
      "outputs": []
    },
    {
      "cell_type": "code",
      "metadata": {
        "id": "91yeUtvJtH57"
      },
      "source": [
        "def get_repos_by_language(language, token=None):\n",
        "  # A GitHub PAT is used to allow a higher rate limit\n",
        "  gh = Github(token)\n",
        "  return gh.search_repositories(f\"language:{language}\")\n",
        "\n",
        "def download_repo(repo):\n",
        "  url = repo.get_archive_link(\"zipball\")\n",
        "  response = requests.get(url)\n",
        "  content = response.content\n",
        "  with zipfile.ZipFile(io.BytesIO(content), \"r\") as zf:\n",
        "    zf.extractall(repo.name)\n",
        "  return repo.name\n",
        "\n",
        "LANGUAGE_TO_EXTENSION = {\n",
        "    \"python\": \"py\",\n",
        "    \"javascript\": \"js\",\n",
        "    \"java\": \"java\"\n",
        "}\n",
        "\n",
        "def get_language_files(path, language):\n",
        "  filename_list = []\n",
        "\n",
        "  if not path.endswith(\"/\"):\n",
        "    root_dir = f\"{path}/\"\n",
        "  else:\n",
        "    root_dir = path\n",
        "\n",
        "  pattern = f\"**/*.{LANGUAGE_TO_EXTENSION[language]}\"\n",
        "  for filename in glob.iglob(root_dir + pattern, recursive=True):\n",
        "     filename_list.append(filename)\n",
        "  return filename_list\n",
        "\n",
        "def get_random_chunks(path):\n",
        "  with open(path, \"r\") as input_file:\n",
        "    lines = input_file.readlines()\n",
        "  sanitized_lines = list(map(lambda line: line.rstrip(\"\\n\"), lines))\n",
        "  \n",
        "  i = 0\n",
        "  chunks = []\n",
        "  while i < len(lines):\n",
        "    if len(lines) - i == 1:\n",
        "      lines_to_read = 1\n",
        "    else:\n",
        "      lines_to_read = random.randrange(1, len(lines) - i)\n",
        "    chunks.append(sanitized_lines[i:i+lines_to_read])\n",
        "    i += lines_to_read\n",
        "  \n",
        "  return ['\\n'.join(group) for group in chunks]\n"
      ],
      "execution_count": 7,
      "outputs": []
    },
    {
      "cell_type": "code",
      "metadata": {
        "id": "FzcEadtBBAmL"
      },
      "source": [
        "LANGUAGES = [\"python\", \"javascript\", \"java\"]\n",
        "\n",
        "def get_language_dataset(language, repo_count_per_language=10, token=None):\n",
        "  samples = []\n",
        "  repos_paginated = get_repos_by_language(language, token)\n",
        "  chosen_repos = repos_paginated[0:repo_count_per_language]\n",
        "  for repo in chosen_repos:\n",
        "    try:\n",
        "      downloaded_path = download_repo(repo)\n",
        "      for file_path in get_language_files(downloaded_path, language):\n",
        "        chunks = get_random_chunks(file_path)\n",
        "        samples += chunks\n",
        "    except:\n",
        "      pass\n",
        "  \n",
        "  return samples, [language] * len(samples)"
      ],
      "execution_count": 10,
      "outputs": []
    },
    {
      "cell_type": "markdown",
      "metadata": {
        "id": "UwmLyyhLnVJc"
      },
      "source": [
        "We query GitHub using the Search API to find repositories containing files of the correct programming language. Then, we download the repository and filter it for files with the correct file extension for the programming language.\n",
        "\n",
        "Finally, we split each of these files to random sized chunks"
      ]
    },
    {
      "cell_type": "code",
      "metadata": {
        "id": "HK5a107pnN19"
      },
      "source": [
        "examples = get_language_dataset('javascript', repo_count_per_language=1)\n",
        "example = examples[0]"
      ],
      "execution_count": 14,
      "outputs": []
    },
    {
      "cell_type": "code",
      "metadata": {
        "colab": {
          "base_uri": "https://localhost:8080/"
        },
        "id": "5DV5DUripB-2",
        "outputId": "5f728d01-d94f-43a0-f74e-978797f70323"
      },
      "source": [
        "# Printing some example chunks\n",
        "for i in range(5):\n",
        "  print(f\"i={i}:\")\n",
        "  print(example[i])\n",
        "  print()"
      ],
      "execution_count": 23,
      "outputs": [
        {
          "output_type": "stream",
          "text": [
            "i=0:\n",
            "const babelOptions = {\n",
            "  presets: [\n",
            "    [\n",
            "      '@babel/preset-env',\n",
            "      {\n",
            "        targets: {\n",
            "\n",
            "i=1:\n",
            "          node: 14\n",
            "        }\n",
            "\n",
            "i=2:\n",
            "      }\n",
            "    ],\n",
            "    '@babel/react'\n",
            "  ]\n",
            "};\n",
            "\n",
            "\n",
            "i=3:\n",
            "module.exports = require('babel-jest').createTransformer(babelOptions);\n",
            "\n",
            "i=4:\n",
            "const util = require('cypress/lib/util');\n",
            "const execa = require('execa');\n",
            "\n",
            "\n"
          ],
          "name": "stdout"
        }
      ]
    },
    {
      "cell_type": "markdown",
      "metadata": {
        "id": "LEEXMFFvoIZV"
      },
      "source": [
        "For these demo purposes, I'm build a dataset containing 100 repositories from each programming language."
      ]
    },
    {
      "cell_type": "code",
      "metadata": {
        "id": "LpoVAKC4n75V"
      },
      "source": [
        "def build_dataset(repo_count_per_language=100):\n",
        "  samples = []\n",
        "  labels = []\n",
        "\n",
        "  token = getpass(\"Enter a GitHub PAT: \")\n",
        "  for language in LANGUAGES:\n",
        "    lang_samples, lang_labels = get_language_dataset(language, repo_count_per_language, token)\n",
        "    samples += lang_samples\n",
        "    labels += lang_labels\n",
        "  \n",
        "  return samples, labels"
      ],
      "execution_count": 33,
      "outputs": []
    },
    {
      "cell_type": "code",
      "metadata": {
        "colab": {
          "base_uri": "https://localhost:8080/"
        },
        "id": "Oqs55PuADWuF",
        "outputId": "27b44df3-91aa-457d-f128-8b6f131a02ed"
      },
      "source": [
        "dataset = build_dataset()"
      ],
      "execution_count": 34,
      "outputs": [
        {
          "output_type": "stream",
          "text": [
            "Enter a GitHub PAT: ··········\n"
          ],
          "name": "stdout"
        }
      ]
    },
    {
      "cell_type": "markdown",
      "metadata": {
        "id": "x8Z9t1z2IT9b"
      },
      "source": [
        "### Storing dataset\n",
        "To avoid having to recalculate the database in each run, we store the dataset in a pickle file, which is in turn stored in Google Drive.\n",
        "\n",
        "In subsequent steps of the classification, we will pull the dataset from this file."
      ]
    },
    {
      "cell_type": "code",
      "metadata": {
        "id": "Fnm97YK7Ia1r"
      },
      "source": [
        "import bz2\n",
        "import pickle\n",
        "from google.colab import drive"
      ],
      "execution_count": 35,
      "outputs": []
    },
    {
      "cell_type": "code",
      "metadata": {
        "colab": {
          "base_uri": "https://localhost:8080/"
        },
        "id": "DLHS8EkbIcaJ",
        "outputId": "fab02217-78c6-4d89-d8fb-0ee81d7b92f0"
      },
      "source": [
        "drive.mount(\"/content/drive\")\n",
        "with bz2.BZ2File(\"/content/drive/My Drive/project_dataset.pbz2\", 'w') as pkl_file: \n",
        "    pickle.dump(dataset, pkl_file)"
      ],
      "execution_count": 36,
      "outputs": [
        {
          "output_type": "stream",
          "text": [
            "Drive already mounted at /content/drive; to attempt to forcibly remount, call drive.mount(\"/content/drive\", force_remount=True).\n"
          ],
          "name": "stdout"
        }
      ]
    },
    {
      "cell_type": "markdown",
      "metadata": {
        "id": "3Z0llfc766mJ"
      },
      "source": [
        "## Classifying snippets\n",
        "As an initial approach, I have attempted to use bag of words to classify the different snippets.\n",
        "\n",
        "In the BoW technique, we will take all the words in every sample, then count the number of occurrences of each word in each sample, generating a fixed-length vector to describe each one of the samples.\n",
        "\n",
        "This sample in turn will be fed into a linear classifier, in our case a Naive Bayes classifier."
      ]
    },
    {
      "cell_type": "code",
      "metadata": {
        "id": "gnd8HLSXQ1MZ"
      },
      "source": [
        "import numpy as np\n",
        "\n",
        "from sklearn.feature_extraction.text import CountVectorizer\n",
        "from sklearn.model_selection import train_test_split\n",
        "from sklearn.naive_bayes import MultinomialNB\n",
        "from sklearn.metrics import accuracy_score"
      ],
      "execution_count": 37,
      "outputs": []
    },
    {
      "cell_type": "code",
      "metadata": {
        "id": "8ZnoEpESg9N1"
      },
      "source": [
        "import bz2\n",
        "import pickle\n",
        "from google.colab import drive\n",
        "\n",
        "def load_dataset():\n",
        "  drive.mount(\"/content/drive\")\n",
        "  with bz2.BZ2File(\"/content/drive/My Drive/project_dataset.pbz2\", 'r') as pkl_file: \n",
        "    dataset = pickle.load(pkl_file)\n",
        "  return dataset"
      ],
      "execution_count": 38,
      "outputs": []
    },
    {
      "cell_type": "code",
      "metadata": {
        "id": "43rhT18hSXG1"
      },
      "source": [
        "try:\n",
        "  dataset\n",
        "except NameError:\n",
        "  dataset = load_dataset()\n",
        "\n",
        "samples, labels = dataset\n",
        "samples_train, samples_test, labels_train, labels_test = train_test_split(samples, labels)"
      ],
      "execution_count": 39,
      "outputs": []
    },
    {
      "cell_type": "code",
      "metadata": {
        "id": "ulD0AzJvRuaV"
      },
      "source": [
        "vectorizer = CountVectorizer(lowercase=False, max_features=1000)\n",
        "samples_bow_train = vectorizer.fit_transform(samples_train)"
      ],
      "execution_count": 40,
      "outputs": []
    },
    {
      "cell_type": "code",
      "metadata": {
        "colab": {
          "base_uri": "https://localhost:8080/"
        },
        "id": "GcNIAaDbUQnx",
        "outputId": "3a20d953-b626-4b0a-dc97-35054a5a11c0"
      },
      "source": [
        "classifier = MultinomialNB()\n",
        "classifier.fit(samples_bow_train, labels_train)"
      ],
      "execution_count": 41,
      "outputs": [
        {
          "output_type": "execute_result",
          "data": {
            "text/plain": [
              "MultinomialNB(alpha=1.0, class_prior=None, fit_prior=True)"
            ]
          },
          "metadata": {
            "tags": []
          },
          "execution_count": 41
        }
      ]
    },
    {
      "cell_type": "code",
      "metadata": {
        "id": "yW-hH1X-a9px"
      },
      "source": [
        "samples_bow_test = vectorizer.transform(samples_test)"
      ],
      "execution_count": 42,
      "outputs": []
    },
    {
      "cell_type": "code",
      "metadata": {
        "id": "WTGHkYEKbj7I"
      },
      "source": [
        "labels_test_predict = classifier.predict(samples_bow_test)"
      ],
      "execution_count": 43,
      "outputs": []
    },
    {
      "cell_type": "code",
      "metadata": {
        "colab": {
          "base_uri": "https://localhost:8080/"
        },
        "id": "Ayxe-1lrbuxz",
        "outputId": "35fc8b27-84b9-491e-8faf-044eaee31e38"
      },
      "source": [
        "accuracy_score(labels_test, labels_test_predict)"
      ],
      "execution_count": 44,
      "outputs": [
        {
          "output_type": "execute_result",
          "data": {
            "text/plain": [
              "0.8730154583819492"
            ]
          },
          "metadata": {
            "tags": []
          },
          "execution_count": 44
        }
      ]
    },
    {
      "cell_type": "code",
      "metadata": {
        "id": "7IkkGFcwd4zp"
      },
      "source": [
        "labels_test_proba = classifier.predict_proba(samples_bow_test)"
      ],
      "execution_count": 45,
      "outputs": []
    },
    {
      "cell_type": "code",
      "metadata": {
        "id": "NyuXY05ydI3T"
      },
      "source": [
        "y_true = np.array(labels_test)\n",
        "y_probas = labels_test_proba"
      ],
      "execution_count": 46,
      "outputs": []
    },
    {
      "cell_type": "code",
      "metadata": {
        "colab": {
          "base_uri": "https://localhost:8080/",
          "height": 346
        },
        "id": "gnQ78IlCc6UH",
        "outputId": "b709b11b-b3fc-4e4d-ad72-c22818b0aa77"
      },
      "source": [
        "import matplotlib.pyplot as plt\n",
        "import scikitplot as skplt\n",
        "skplt.metrics.plot_roc_curve(y_true, y_probas)"
      ],
      "execution_count": 47,
      "outputs": [
        {
          "output_type": "stream",
          "text": [
            "/usr/local/lib/python3.7/dist-packages/sklearn/utils/deprecation.py:87: FutureWarning: Function plot_roc_curve is deprecated; This will be removed in v0.5.0. Please use scikitplot.metrics.plot_roc instead.\n",
            "  warnings.warn(msg, category=FutureWarning)\n"
          ],
          "name": "stderr"
        },
        {
          "output_type": "execute_result",
          "data": {
            "text/plain": [
              "<matplotlib.axes._subplots.AxesSubplot at 0x7f3d88d79250>"
            ]
          },
          "metadata": {
            "tags": []
          },
          "execution_count": 47
        },
        {
          "output_type": "display_data",
          "data": {
            "image/png": "[encoded data removed]",
            "text/plain": [
              "<Figure size 432x288 with 1 Axes>"
            ]
          },
          "metadata": {
            "tags": [],
            "needs_background": "light"
          }
        }
      ]
    },
    {
      "cell_type": "markdown",
      "metadata": {
        "id": "NuiOHFD7e8ds"
      },
      "source": [
        "## Goals\n",
        "In continuing this project, I hope to achieve the following goals - \n",
        "\n",
        "1. Classifying between the top 100 most popular programming languages\n",
        "2. Classification accuracy should be higher than 95% on average\n",
        "3. Classifying a single sample should happen instantly. This is to support network appliances of the classifier\n",
        "4. Adding a new progamming language to the model should be trivial, aside from time and cost of retraining the model.\n",
        "\n",
        "In order to achieve these goals, I plan to create a more robust and thorough engine of collecting source code from Github, using more resources and a multithreaded approach. This will be done to allow gathering of a great number of samples, across more programming languages.\n",
        "\n",
        "Furthermore, I will explore various classifying techniques in order to improve the speed and accuracy of the models. These techniques will range from naive classification methods to more specialized approaches that leverage domain-specific knowledge about the samples.\n",
        "\n"
      ]
    }
  ]
}